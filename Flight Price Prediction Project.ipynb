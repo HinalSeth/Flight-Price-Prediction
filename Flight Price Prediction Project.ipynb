{
 "cells": [
  {
   "cell_type": "markdown",
   "id": "598f5b2e",
   "metadata": {},
   "source": [
    "# Flight Price Prediction "
   ]
  },
  {
   "cell_type": "code",
   "execution_count": 1,
   "id": "1982b898",
   "metadata": {},
   "outputs": [],
   "source": [
    "import numpy as np\n",
    "import pandas as pd\n",
    "import scipy\n",
    "from scipy.stats import zscore\n",
    "import matplotlib.pyplot as plt\n",
    "import sklearn \n",
    "from sklearn.preprocessing import LabelEncoder\n",
    "from sklearn.preprocessing import StandardScaler\n",
    "from sklearn.preprocessing import MinMaxScaler\n",
    "from sklearn.model_selection import train_test_split\n",
    "from sklearn.linear_model import Ridge, ElasticNet\n",
    "from sklearn.tree import DecisionTreeRegressor\n",
    "from sklearn.neighbors import KNeighborsRegressor\n",
    "from sklearn.linear_model import SGDRegressor\n",
    "from sklearn.ensemble import RandomForestRegressor\n",
    "from sklearn.ensemble import GradientBoostingRegressor\n",
    "from sklearn.metrics import mean_squared_error, mean_absolute_error, r2_score\n",
    "from sklearn.model_selection import cross_val_score as cvs\n",
    "from sklearn.model_selection import GridSearchCV\n",
    "import seaborn as sn\n",
    "import pickle\n",
    "import warnings\n",
    "warnings.filterwarnings('ignore')"
   ]
  },
  {
   "cell_type": "markdown",
   "id": "42cc688e",
   "metadata": {},
   "source": [
    "Importing All the necessary libraries."
   ]
  },
  {
   "cell_type": "markdown",
   "id": "089e6ee1",
   "metadata": {},
   "source": [
    "# Reading and Understanding the Data"
   ]
  },
  {
   "cell_type": "code",
   "execution_count": 2,
   "id": "901b115a",
   "metadata": {},
   "outputs": [
    {
     "data": {
      "text/html": [
       "<div>\n",
       "<style scoped>\n",
       "    .dataframe tbody tr th:only-of-type {\n",
       "        vertical-align: middle;\n",
       "    }\n",
       "\n",
       "    .dataframe tbody tr th {\n",
       "        vertical-align: top;\n",
       "    }\n",
       "\n",
       "    .dataframe thead th {\n",
       "        text-align: right;\n",
       "    }\n",
       "</style>\n",
       "<table border=\"1\" class=\"dataframe\">\n",
       "  <thead>\n",
       "    <tr style=\"text-align: right;\">\n",
       "      <th></th>\n",
       "      <th>Airline</th>\n",
       "      <th>Source</th>\n",
       "      <th>Destination</th>\n",
       "      <th>Dep_Time</th>\n",
       "      <th>Arrival_Time</th>\n",
       "      <th>Duration</th>\n",
       "      <th>Total_Stops</th>\n",
       "      <th>Additional_Info</th>\n",
       "      <th>Price (in ₹)</th>\n",
       "    </tr>\n",
       "  </thead>\n",
       "  <tbody>\n",
       "    <tr>\n",
       "      <th>0</th>\n",
       "      <td>Air India</td>\n",
       "      <td>New Delhi</td>\n",
       "      <td>Mumbai</td>\n",
       "      <td>07:00</td>\n",
       "      <td>09:00</td>\n",
       "      <td>2h 00m</td>\n",
       "      <td>Non Stop</td>\n",
       "      <td>Free Meal</td>\n",
       "      <td>2476</td>\n",
       "    </tr>\n",
       "    <tr>\n",
       "      <th>1</th>\n",
       "      <td>Air India</td>\n",
       "      <td>New Delhi</td>\n",
       "      <td>Mumbai</td>\n",
       "      <td>09:00</td>\n",
       "      <td>11:15</td>\n",
       "      <td>2h 15m</td>\n",
       "      <td>Non Stop</td>\n",
       "      <td>Free Meal</td>\n",
       "      <td>2476</td>\n",
       "    </tr>\n",
       "    <tr>\n",
       "      <th>2</th>\n",
       "      <td>Air India</td>\n",
       "      <td>New Delhi</td>\n",
       "      <td>Mumbai</td>\n",
       "      <td>15:05</td>\n",
       "      <td>18:10</td>\n",
       "      <td>3h 05m</td>\n",
       "      <td>1 stop</td>\n",
       "      <td>Free Meal</td>\n",
       "      <td>2791</td>\n",
       "    </tr>\n",
       "    <tr>\n",
       "      <th>3</th>\n",
       "      <td>Air India</td>\n",
       "      <td>New Delhi</td>\n",
       "      <td>Mumbai</td>\n",
       "      <td>17:50</td>\n",
       "      <td>21:35</td>\n",
       "      <td>3h 45m</td>\n",
       "      <td>1 stop</td>\n",
       "      <td>Free Meal</td>\n",
       "      <td>2791</td>\n",
       "    </tr>\n",
       "    <tr>\n",
       "      <th>4</th>\n",
       "      <td>Jet Airways</td>\n",
       "      <td>New Delhi</td>\n",
       "      <td>Mumbai</td>\n",
       "      <td>07:55</td>\n",
       "      <td>10:15</td>\n",
       "      <td>2h 20m</td>\n",
       "      <td>Non Stop</td>\n",
       "      <td>Free Meal</td>\n",
       "      <td>3173</td>\n",
       "    </tr>\n",
       "  </tbody>\n",
       "</table>\n",
       "</div>"
      ],
      "text/plain": [
       "       Airline     Source Destination Dep_Time Arrival_Time Duration  \\\n",
       "0    Air India  New Delhi      Mumbai    07:00        09:00   2h 00m   \n",
       "1    Air India  New Delhi      Mumbai    09:00        11:15   2h 15m   \n",
       "2    Air India  New Delhi      Mumbai    15:05        18:10   3h 05m   \n",
       "3    Air India  New Delhi      Mumbai    17:50        21:35   3h 45m   \n",
       "4  Jet Airways  New Delhi      Mumbai    07:55        10:15   2h 20m   \n",
       "\n",
       "  Total_Stops Additional_Info  Price (in ₹)  \n",
       "0    Non Stop       Free Meal          2476  \n",
       "1    Non Stop       Free Meal          2476  \n",
       "2      1 stop       Free Meal          2791  \n",
       "3      1 stop       Free Meal          2791  \n",
       "4    Non Stop       Free Meal          3173  "
      ]
     },
     "execution_count": 2,
     "metadata": {},
     "output_type": "execute_result"
    }
   ],
   "source": [
    "df = pd.read_excel('Flight Dataset.xlsx')\n",
    "df.head()"
   ]
  },
  {
   "cell_type": "markdown",
   "id": "35835be5",
   "metadata": {},
   "source": [
    "Here we read the Excel file in jupyter notebook."
   ]
  },
  {
   "cell_type": "code",
   "execution_count": 3,
   "id": "fefd8bcb",
   "metadata": {},
   "outputs": [
    {
     "data": {
      "text/html": [
       "<div>\n",
       "<style scoped>\n",
       "    .dataframe tbody tr th:only-of-type {\n",
       "        vertical-align: middle;\n",
       "    }\n",
       "\n",
       "    .dataframe tbody tr th {\n",
       "        vertical-align: top;\n",
       "    }\n",
       "\n",
       "    .dataframe thead th {\n",
       "        text-align: right;\n",
       "    }\n",
       "</style>\n",
       "<table border=\"1\" class=\"dataframe\">\n",
       "  <thead>\n",
       "    <tr style=\"text-align: right;\">\n",
       "      <th></th>\n",
       "      <th>Airline</th>\n",
       "      <th>Source</th>\n",
       "      <th>Destination</th>\n",
       "      <th>Dep_Time</th>\n",
       "      <th>Arrival_Time</th>\n",
       "      <th>Duration</th>\n",
       "      <th>Total_Stops</th>\n",
       "      <th>Additional_Info</th>\n",
       "      <th>Price (in ₹)</th>\n",
       "    </tr>\n",
       "  </thead>\n",
       "  <tbody>\n",
       "    <tr>\n",
       "      <th>1545</th>\n",
       "      <td>Air India</td>\n",
       "      <td>Bangalore</td>\n",
       "      <td>New Delhi</td>\n",
       "      <td>08:15</td>\n",
       "      <td>18:30</td>\n",
       "      <td>10h 15m</td>\n",
       "      <td>1 stop</td>\n",
       "      <td>No info</td>\n",
       "      <td>4943</td>\n",
       "    </tr>\n",
       "    <tr>\n",
       "      <th>1546</th>\n",
       "      <td>Air India</td>\n",
       "      <td>Bangalore</td>\n",
       "      <td>New Delhi</td>\n",
       "      <td>00:30</td>\n",
       "      <td>23:55</td>\n",
       "      <td>23h 25m</td>\n",
       "      <td>1 stop</td>\n",
       "      <td>No info</td>\n",
       "      <td>10394</td>\n",
       "    </tr>\n",
       "    <tr>\n",
       "      <th>1547</th>\n",
       "      <td>Jet Airways</td>\n",
       "      <td>Bangalore</td>\n",
       "      <td>New Delhi</td>\n",
       "      <td>11:40</td>\n",
       "      <td>21:20</td>\n",
       "      <td>9h 40m</td>\n",
       "      <td>1 stop</td>\n",
       "      <td>1 Long layover</td>\n",
       "      <td>27992</td>\n",
       "    </tr>\n",
       "    <tr>\n",
       "      <th>1548</th>\n",
       "      <td>IndiGo</td>\n",
       "      <td>Bangalore</td>\n",
       "      <td>New Delhi</td>\n",
       "      <td>18:25</td>\n",
       "      <td>21:20</td>\n",
       "      <td>2h 55m</td>\n",
       "      <td>non-stop</td>\n",
       "      <td>No info</td>\n",
       "      <td>7648</td>\n",
       "    </tr>\n",
       "    <tr>\n",
       "      <th>1549</th>\n",
       "      <td>IndiGo</td>\n",
       "      <td>Bangalore</td>\n",
       "      <td>New Delhi</td>\n",
       "      <td>10:05</td>\n",
       "      <td>13:00</td>\n",
       "      <td>2h 55m</td>\n",
       "      <td>non-stop</td>\n",
       "      <td>No info</td>\n",
       "      <td>7648</td>\n",
       "    </tr>\n",
       "  </tbody>\n",
       "</table>\n",
       "</div>"
      ],
      "text/plain": [
       "          Airline     Source Destination Dep_Time Arrival_Time Duration  \\\n",
       "1545    Air India  Bangalore   New Delhi    08:15        18:30  10h 15m   \n",
       "1546    Air India  Bangalore   New Delhi    00:30        23:55  23h 25m   \n",
       "1547  Jet Airways  Bangalore   New Delhi    11:40        21:20   9h 40m   \n",
       "1548       IndiGo  Bangalore   New Delhi    18:25        21:20   2h 55m   \n",
       "1549       IndiGo  Bangalore   New Delhi    10:05        13:00   2h 55m   \n",
       "\n",
       "     Total_Stops Additional_Info  Price (in ₹)  \n",
       "1545      1 stop         No info          4943  \n",
       "1546      1 stop         No info         10394  \n",
       "1547      1 stop  1 Long layover         27992  \n",
       "1548    non-stop         No info          7648  \n",
       "1549    non-stop         No info          7648  "
      ]
     },
     "execution_count": 3,
     "metadata": {},
     "output_type": "execute_result"
    }
   ],
   "source": [
    "df = pd.DataFrame(data=df)\n",
    "df.tail()"
   ]
  },
  {
   "cell_type": "markdown",
   "id": "c09ca903",
   "metadata": {},
   "source": [
    "Here we are loading the dataset into DataFrame."
   ]
  },
  {
   "cell_type": "markdown",
   "id": "5abebab3",
   "metadata": {},
   "source": [
    "# Data Inspection"
   ]
  },
  {
   "cell_type": "code",
   "execution_count": 4,
   "id": "0c8be482",
   "metadata": {},
   "outputs": [
    {
     "data": {
      "text/plain": [
       "(1550, 9)"
      ]
     },
     "execution_count": 4,
     "metadata": {},
     "output_type": "execute_result"
    }
   ],
   "source": [
    "df.shape"
   ]
  },
  {
   "cell_type": "markdown",
   "id": "8ebca135",
   "metadata": {},
   "source": [
    "There are 1550 rows and 9 columns in our dataset."
   ]
  },
  {
   "cell_type": "code",
   "execution_count": 5,
   "id": "5b5d6ef0",
   "metadata": {},
   "outputs": [
    {
     "data": {
      "text/plain": [
       "Airline            object\n",
       "Source             object\n",
       "Destination        object\n",
       "Dep_Time           object\n",
       "Arrival_Time       object\n",
       "Duration           object\n",
       "Total_Stops        object\n",
       "Additional_Info    object\n",
       "Price (in ₹)        int64\n",
       "dtype: object"
      ]
     },
     "execution_count": 5,
     "metadata": {},
     "output_type": "execute_result"
    }
   ],
   "source": [
    "df.dtypes"
   ]
  },
  {
   "cell_type": "markdown",
   "id": "9cfccbe4",
   "metadata": {},
   "source": [
    "All the columns are of object datatype except the target variable, 'Price (in ₹)' which is of integer data type."
   ]
  },
  {
   "cell_type": "code",
   "execution_count": 6,
   "id": "1c86a755",
   "metadata": {},
   "outputs": [
    {
     "data": {
      "text/plain": [
       "Index(['Airline', 'Source', 'Destination', 'Dep_Time', 'Arrival_Time',\n",
       "       'Duration', 'Total_Stops', 'Additional_Info', 'Price (in ₹)'],\n",
       "      dtype='object')"
      ]
     },
     "execution_count": 6,
     "metadata": {},
     "output_type": "execute_result"
    }
   ],
   "source": [
    "df.columns"
   ]
  },
  {
   "cell_type": "markdown",
   "id": "611e3d19",
   "metadata": {},
   "source": [
    "It gives us the names of all columns present in the Flight Dataset.\n",
    "\n",
    "About Columns:\n",
    "\n",
    "1. Airline : Name of the airline\n",
    "2. Source : City of Departure\n",
    "3. Destination : City of Arrival\n",
    "4. Dep_Time: Time of Departure\n",
    "5. Arrival_Time : Time of Arrival\n",
    "6. Duration : Total duration of the journey\n",
    "7. Total_Stops : Number of stops in a journey\n",
    "8. Additional_Info : Additional Information about the flight (If any)\n",
    "9. Price (in ₹) : Price of the ticket to fly\n",
    "    \n",
    "Here Price (in ₹) is our target variable.    "
   ]
  },
  {
   "cell_type": "code",
   "execution_count": 7,
   "id": "b4af3225",
   "metadata": {},
   "outputs": [
    {
     "name": "stdout",
     "output_type": "stream",
     "text": [
      "<class 'pandas.core.frame.DataFrame'>\n",
      "RangeIndex: 1550 entries, 0 to 1549\n",
      "Data columns (total 9 columns):\n",
      " #   Column           Non-Null Count  Dtype \n",
      "---  ------           --------------  ----- \n",
      " 0   Airline          1550 non-null   object\n",
      " 1   Source           1550 non-null   object\n",
      " 2   Destination      1550 non-null   object\n",
      " 3   Dep_Time         1550 non-null   object\n",
      " 4   Arrival_Time     1550 non-null   object\n",
      " 5   Duration         1550 non-null   object\n",
      " 6   Total_Stops      1550 non-null   object\n",
      " 7   Additional_Info  1550 non-null   object\n",
      " 8   Price (in ₹)     1550 non-null   int64 \n",
      "dtypes: int64(1), object(8)\n",
      "memory usage: 109.1+ KB\n"
     ]
    }
   ],
   "source": [
    "df.info()"
   ]
  },
  {
   "cell_type": "markdown",
   "id": "036d72ae",
   "metadata": {},
   "source": [
    "There are 9 columns and all the columns have 1550 non-null values and all the columns are of object data type except 'Price (in ₹)' which is of integer data type. \n",
    "The total memory usage of this dataset is 109.1 KB."
   ]
  },
  {
   "cell_type": "markdown",
   "id": "15aafb6e",
   "metadata": {},
   "source": [
    "# Data Cleaning"
   ]
  },
  {
   "cell_type": "code",
   "execution_count": 8,
   "id": "17589ca0",
   "metadata": {},
   "outputs": [
    {
     "data": {
      "text/plain": [
       "Airline            0\n",
       "Source             0\n",
       "Destination        0\n",
       "Dep_Time           0\n",
       "Arrival_Time       0\n",
       "Duration           0\n",
       "Total_Stops        0\n",
       "Additional_Info    0\n",
       "Price (in ₹)       0\n",
       "dtype: int64"
      ]
     },
     "execution_count": 8,
     "metadata": {},
     "output_type": "execute_result"
    }
   ],
   "source": [
    "#Checking for Null values\n",
    "df.isnull().sum()"
   ]
  },
  {
   "cell_type": "markdown",
   "id": "c45578c3",
   "metadata": {},
   "source": [
    "There are no Null Values in the Dataset."
   ]
  },
  {
   "cell_type": "code",
   "execution_count": 9,
   "id": "4c9901d4",
   "metadata": {},
   "outputs": [
    {
     "data": {
      "text/plain": [
       "<AxesSubplot:>"
      ]
     },
     "execution_count": 9,
     "metadata": {},
     "output_type": "execute_result"
    },
    {
     "data": {
      "image/png": "[encoded data removed]",
      "text/plain": [
       "<Figure size 432x288 with 2 Axes>"
      ]
     },
     "metadata": {
      "needs_background": "light"
     },
     "output_type": "display_data"
    }
   ],
   "source": [
    "sn.heatmap(df.isnull())"
   ]
  },
  {
   "cell_type": "markdown",
   "id": "5c6ea68b",
   "metadata": {},
   "source": [
    "Visual representation of having absolutely no null values."
   ]
  },
  {
   "cell_type": "code",
   "execution_count": 10,
   "id": "8cff342b",
   "metadata": {},
   "outputs": [],
   "source": [
    "#Checking for outliers and Skewness\n",
    "#Since all the variables are of object data type, except the target. Hence, we will not check for outliers or skewness."
   ]
  },
  {
   "cell_type": "markdown",
   "id": "830725c0",
   "metadata": {},
   "source": [
    "# Exploratory Data Analysis"
   ]
  },
  {
   "cell_type": "code",
   "execution_count": 11,
   "id": "d0eb68b0",
   "metadata": {},
   "outputs": [
    {
     "data": {
      "text/plain": [
       "<AxesSubplot:xlabel='Price (in ₹)', ylabel='Density'>"
      ]
     },
     "execution_count": 11,
     "metadata": {},
     "output_type": "execute_result"
    },
    {
     "data": {
      "image/png": "[encoded data removed]",
      "text/plain": [
       "<Figure size 432x288 with 1 Axes>"
      ]
     },
     "metadata": {
      "needs_background": "light"
     },
     "output_type": "display_data"
    }
   ],
   "source": [
    "sn.distplot(df['Price (in ₹)'])"
   ]
  },
  {
   "cell_type": "markdown",
   "id": "16ad5a33",
   "metadata": {},
   "source": [
    "The maximum flights are within ₹ 10000 "
   ]
  },
  {
   "cell_type": "code",
   "execution_count": 12,
   "id": "c5286d59",
   "metadata": {},
   "outputs": [
    {
     "data": {
      "text/plain": [
       "<AxesSubplot:xlabel='Price (in ₹)'>"
      ]
     },
     "execution_count": 12,
     "metadata": {},
     "output_type": "execute_result"
    },
    {
     "data": {
      "image/png": "[encoded data removed]",
      "text/plain": [
       "<Figure size 432x288 with 1 Axes>"
      ]
     },
     "metadata": {
      "needs_background": "light"
     },
     "output_type": "display_data"
    }
   ],
   "source": [
    "sn.boxplot(df['Price (in ₹)'])"
   ]
  },
  {
   "cell_type": "markdown",
   "id": "cc89887f",
   "metadata": {},
   "source": [
    "There are few outliers in our target and also it is nearly tightly distributed."
   ]
  },
  {
   "cell_type": "code",
   "execution_count": 13,
   "id": "e39826d6",
   "metadata": {},
   "outputs": [
    {
     "data": {
      "text/plain": [
       "<AxesSubplot:xlabel='Price (in ₹)'>"
      ]
     },
     "execution_count": 13,
     "metadata": {},
     "output_type": "execute_result"
    },
    {
     "data": {
      "image/png": "[encoded data removed]",
      "text/plain": [
       "<Figure size 432x288 with 1 Axes>"
      ]
     },
     "metadata": {
      "needs_background": "light"
     },
     "output_type": "display_data"
    }
   ],
   "source": [
    "sn.violinplot(x=df['Price (in ₹)'], inner=\"quartile\", color=\"#36B37E\")"
   ]
  },
  {
   "cell_type": "markdown",
   "id": "ad4b9213",
   "metadata": {},
   "source": [
    "Our dataset contains a lot of variables, but the most important one for us to explore is the target variable. We need to understand its distribution. First, we start by plotting the violin plot for the target variable. The width of the violin represents the frequency.\n",
    "\n",
    "We can see from the plot that most flight prices fall within 10,000. The dashed lines represent the locations of the three quartiles Q1, Q2 (the median), and Q3. "
   ]
  },
  {
   "cell_type": "code",
   "execution_count": 14,
   "id": "ab62c159",
   "metadata": {},
   "outputs": [
    {
     "data": {
      "image/png": "[encoded data removed]",
      "text/plain": [
       "<Figure size 432x288 with 1 Axes>"
      ]
     },
     "metadata": {
      "needs_background": "light"
     },
     "output_type": "display_data"
    }
   ],
   "source": [
    "sn.countplot(df['Airline'])\n",
    "plt.xticks(rotation=90)\n",
    "plt.show()"
   ]
  },
  {
   "cell_type": "markdown",
   "id": "d389c8e9",
   "metadata": {},
   "source": [
    "The maximum flights taken/available belongs to airline 'Jet Airways' followed by \"IndiGo\" and \"Air India\"."
   ]
  },
  {
   "cell_type": "code",
   "execution_count": 15,
   "id": "621b3493",
   "metadata": {},
   "outputs": [
    {
     "data": {
      "image/png": "[encoded data removed]",
      "text/plain": [
       "<Figure size 432x288 with 1 Axes>"
      ]
     },
     "metadata": {},
     "output_type": "display_data"
    }
   ],
   "source": [
    "plt.pie(df['Source'].value_counts(), labels=df['Source'].unique(),shadow=False)\n",
    "plt.tight_layout()\n",
    "plt.show()"
   ]
  },
  {
   "cell_type": "markdown",
   "id": "a28d9f35",
   "metadata": {},
   "source": [
    "New Delhi and Mumbai have more flights compared to other sources."
   ]
  },
  {
   "cell_type": "code",
   "execution_count": 16,
   "id": "cb86dce2",
   "metadata": {},
   "outputs": [
    {
     "data": {
      "image/png": "[encoded data removed]",
      "text/plain": [
       "<Figure size 432x288 with 1 Axes>"
      ]
     },
     "metadata": {},
     "output_type": "display_data"
    }
   ],
   "source": [
    "plt.pie(df['Destination'].value_counts(), labels=df['Destination'].unique(),shadow=False)\n",
    "plt.tight_layout()\n",
    "plt.show()"
   ]
  },
  {
   "cell_type": "markdown",
   "id": "ccd8cdc2",
   "metadata": {},
   "source": [
    "Maximum passengers take a flight to Mumbai."
   ]
  },
  {
   "cell_type": "code",
   "execution_count": 17,
   "id": "38922540",
   "metadata": {},
   "outputs": [
    {
     "data": {
      "image/png": "[encoded data removed]",
      "text/plain": [
       "<Figure size 432x288 with 1 Axes>"
      ]
     },
     "metadata": {
      "needs_background": "light"
     },
     "output_type": "display_data"
    }
   ],
   "source": [
    "sn.countplot(df['Total_Stops'])\n",
    "plt.xticks(rotation=90)\n",
    "plt.show()"
   ]
  },
  {
   "cell_type": "markdown",
   "id": "430194ef",
   "metadata": {},
   "source": [
    "Maximum flights are with non-stop followed by 1 stop flights."
   ]
  },
  {
   "cell_type": "code",
   "execution_count": 18,
   "id": "2f7e1ebb",
   "metadata": {},
   "outputs": [
    {
     "data": {
      "image/png": "[encoded data removed]",
      "text/plain": [
       "<Figure size 432x288 with 1 Axes>"
      ]
     },
     "metadata": {
      "needs_background": "light"
     },
     "output_type": "display_data"
    }
   ],
   "source": [
    "sn.countplot(df['Additional_Info'])\n",
    "plt.xticks(rotation=90)\n",
    "plt.show()"
   ]
  },
  {
   "cell_type": "markdown",
   "id": "f32f185c",
   "metadata": {},
   "source": [
    "There is no 'Additional_Info' for maximum flights. Only few flights offer free meal and no check-in baggage. "
   ]
  },
  {
   "cell_type": "code",
   "execution_count": 19,
   "id": "0e9b86cd",
   "metadata": {},
   "outputs": [
    {
     "data": {
      "image/png": "[encoded data removed]",
      "text/plain": [
       "<Figure size 432x288 with 1 Axes>"
      ]
     },
     "metadata": {
      "needs_background": "light"
     },
     "output_type": "display_data"
    }
   ],
   "source": [
    "sn.stripplot(df['Duration'])\n",
    "plt.xticks(rotation=90)\n",
    "plt.show()"
   ]
  },
  {
   "cell_type": "markdown",
   "id": "add9f63b",
   "metadata": {},
   "source": [
    "Since departure time , arrival time and duration have a wide number of unique values in it , hence we will not be performing their Univariate Analysis."
   ]
  },
  {
   "cell_type": "markdown",
   "id": "cbca48ab",
   "metadata": {},
   "source": [
    "# Bivariate Analysis"
   ]
  },
  {
   "cell_type": "code",
   "execution_count": 20,
   "id": "eac9d6b6",
   "metadata": {},
   "outputs": [
    {
     "data": {
      "image/png": "[encoded data removed]",
      "text/plain": [
       "<Figure size 432x288 with 1 Axes>"
      ]
     },
     "metadata": {
      "needs_background": "light"
     },
     "output_type": "display_data"
    }
   ],
   "source": [
    "sn.barplot(x=df['Airline'],y=df['Price (in ₹)'],color='red')\n",
    "plt.xticks(rotation=90)\n",
    "plt.tight_layout()"
   ]
  },
  {
   "cell_type": "markdown",
   "id": "ca0b72ff",
   "metadata": {},
   "source": [
    "The Maximum priced 'Airline' is Jet airways business and the cheapest is Spicejet."
   ]
  },
  {
   "cell_type": "code",
   "execution_count": 21,
   "id": "8de45aba",
   "metadata": {},
   "outputs": [
    {
     "data": {
      "image/png": "[encoded data removed]",
      "text/plain": [
       "<Figure size 432x288 with 1 Axes>"
      ]
     },
     "metadata": {
      "needs_background": "light"
     },
     "output_type": "display_data"
    }
   ],
   "source": [
    "sn.barplot(x=df['Source'],y=df['Price (in ₹)'],color='red')\n",
    "plt.xticks(rotation=90)\n",
    "plt.tight_layout()"
   ]
  },
  {
   "cell_type": "markdown",
   "id": "33d39d38",
   "metadata": {},
   "source": [
    "Flights from Bangalore and Kolkata are costly "
   ]
  },
  {
   "cell_type": "code",
   "execution_count": 22,
   "id": "ac71195a",
   "metadata": {},
   "outputs": [
    {
     "data": {
      "image/png": "[encoded data removed]",
      "text/plain": [
       "<Figure size 432x288 with 1 Axes>"
      ]
     },
     "metadata": {
      "needs_background": "light"
     },
     "output_type": "display_data"
    }
   ],
   "source": [
    "sn.barplot(x=df['Destination'],y=df['Price (in ₹)'],color='red')\n",
    "plt.xticks(rotation=90)\n",
    "plt.tight_layout()"
   ]
  },
  {
   "cell_type": "markdown",
   "id": "508f104b",
   "metadata": {},
   "source": [
    "Flights to New Delhi and Bangalore are costly."
   ]
  },
  {
   "cell_type": "code",
   "execution_count": 23,
   "id": "62c6bdbb",
   "metadata": {},
   "outputs": [
    {
     "data": {
      "image/png": "[encoded data removed]",
      "text/plain": [
       "<Figure size 432x288 with 1 Axes>"
      ]
     },
     "metadata": {
      "needs_background": "light"
     },
     "output_type": "display_data"
    }
   ],
   "source": [
    "sn.barplot(x=df['Total_Stops'],y=df['Price (in ₹)'],color='red')\n",
    "plt.xticks(rotation=90)\n",
    "plt.tight_layout()"
   ]
  },
  {
   "cell_type": "code",
   "execution_count": 24,
   "id": "7adedb2c",
   "metadata": {},
   "outputs": [
    {
     "data": {
      "image/png": "[encoded data removed]",
      "text/plain": [
       "<Figure size 432x288 with 1 Axes>"
      ]
     },
     "metadata": {
      "needs_background": "light"
     },
     "output_type": "display_data"
    }
   ],
   "source": [
    "sn.barplot(x=df['Additional_Info'],y=df['Price (in ₹)'],color='red')\n",
    "plt.xticks(rotation=90)\n",
    "plt.tight_layout()"
   ]
  },
  {
   "cell_type": "markdown",
   "id": "deb2b7d6",
   "metadata": {},
   "source": [
    "Direct flights fits in budget well as they do not give any additional free meal or layovers."
   ]
  },
  {
   "cell_type": "markdown",
   "id": "0b3dca8d",
   "metadata": {},
   "source": [
    "Flights that provide a layover are usually costly."
   ]
  },
  {
   "cell_type": "code",
   "execution_count": 25,
   "id": "e6705adc",
   "metadata": {},
   "outputs": [
    {
     "data": {
      "text/html": [
       "<div>\n",
       "<style scoped>\n",
       "    .dataframe tbody tr th:only-of-type {\n",
       "        vertical-align: middle;\n",
       "    }\n",
       "\n",
       "    .dataframe tbody tr th {\n",
       "        vertical-align: top;\n",
       "    }\n",
       "\n",
       "    .dataframe thead th {\n",
       "        text-align: right;\n",
       "    }\n",
       "</style>\n",
       "<table border=\"1\" class=\"dataframe\">\n",
       "  <thead>\n",
       "    <tr style=\"text-align: right;\">\n",
       "      <th></th>\n",
       "      <th>Airline</th>\n",
       "      <th>Source</th>\n",
       "      <th>Destination</th>\n",
       "      <th>Dep_Time</th>\n",
       "      <th>Arrival_Time</th>\n",
       "      <th>Duration</th>\n",
       "      <th>Total_Stops</th>\n",
       "      <th>Additional_Info</th>\n",
       "      <th>Price (in ₹)</th>\n",
       "    </tr>\n",
       "  </thead>\n",
       "  <tbody>\n",
       "    <tr>\n",
       "      <th>0</th>\n",
       "      <td>1</td>\n",
       "      <td>4</td>\n",
       "      <td>3</td>\n",
       "      <td>25</td>\n",
       "      <td>142</td>\n",
       "      <td>149</td>\n",
       "      <td>3</td>\n",
       "      <td>4</td>\n",
       "      <td>2476</td>\n",
       "    </tr>\n",
       "    <tr>\n",
       "      <th>1</th>\n",
       "      <td>1</td>\n",
       "      <td>4</td>\n",
       "      <td>3</td>\n",
       "      <td>41</td>\n",
       "      <td>214</td>\n",
       "      <td>150</td>\n",
       "      <td>3</td>\n",
       "      <td>4</td>\n",
       "      <td>2476</td>\n",
       "    </tr>\n",
       "    <tr>\n",
       "      <th>2</th>\n",
       "      <td>1</td>\n",
       "      <td>4</td>\n",
       "      <td>3</td>\n",
       "      <td>84</td>\n",
       "      <td>298</td>\n",
       "      <td>166</td>\n",
       "      <td>0</td>\n",
       "      <td>4</td>\n",
       "      <td>2791</td>\n",
       "    </tr>\n",
       "    <tr>\n",
       "      <th>3</th>\n",
       "      <td>1</td>\n",
       "      <td>4</td>\n",
       "      <td>3</td>\n",
       "      <td>109</td>\n",
       "      <td>355</td>\n",
       "      <td>169</td>\n",
       "      <td>0</td>\n",
       "      <td>4</td>\n",
       "      <td>2791</td>\n",
       "    </tr>\n",
       "    <tr>\n",
       "      <th>4</th>\n",
       "      <td>1</td>\n",
       "      <td>4</td>\n",
       "      <td>3</td>\n",
       "      <td>25</td>\n",
       "      <td>142</td>\n",
       "      <td>149</td>\n",
       "      <td>3</td>\n",
       "      <td>4</td>\n",
       "      <td>2476</td>\n",
       "    </tr>\n",
       "    <tr>\n",
       "      <th>...</th>\n",
       "      <td>...</td>\n",
       "      <td>...</td>\n",
       "      <td>...</td>\n",
       "      <td>...</td>\n",
       "      <td>...</td>\n",
       "      <td>...</td>\n",
       "      <td>...</td>\n",
       "      <td>...</td>\n",
       "      <td>...</td>\n",
       "    </tr>\n",
       "    <tr>\n",
       "      <th>1545</th>\n",
       "      <td>1</td>\n",
       "      <td>0</td>\n",
       "      <td>4</td>\n",
       "      <td>34</td>\n",
       "      <td>307</td>\n",
       "      <td>0</td>\n",
       "      <td>0</td>\n",
       "      <td>8</td>\n",
       "      <td>4943</td>\n",
       "    </tr>\n",
       "    <tr>\n",
       "      <th>1546</th>\n",
       "      <td>1</td>\n",
       "      <td>0</td>\n",
       "      <td>4</td>\n",
       "      <td>0</td>\n",
       "      <td>398</td>\n",
       "      <td>105</td>\n",
       "      <td>0</td>\n",
       "      <td>8</td>\n",
       "      <td>10394</td>\n",
       "    </tr>\n",
       "    <tr>\n",
       "      <th>1547</th>\n",
       "      <td>4</td>\n",
       "      <td>0</td>\n",
       "      <td>4</td>\n",
       "      <td>60</td>\n",
       "      <td>352</td>\n",
       "      <td>219</td>\n",
       "      <td>0</td>\n",
       "      <td>0</td>\n",
       "      <td>27992</td>\n",
       "    </tr>\n",
       "    <tr>\n",
       "      <th>1548</th>\n",
       "      <td>3</td>\n",
       "      <td>0</td>\n",
       "      <td>4</td>\n",
       "      <td>111</td>\n",
       "      <td>352</td>\n",
       "      <td>158</td>\n",
       "      <td>4</td>\n",
       "      <td>8</td>\n",
       "      <td>7648</td>\n",
       "    </tr>\n",
       "    <tr>\n",
       "      <th>1549</th>\n",
       "      <td>3</td>\n",
       "      <td>0</td>\n",
       "      <td>4</td>\n",
       "      <td>51</td>\n",
       "      <td>241</td>\n",
       "      <td>158</td>\n",
       "      <td>4</td>\n",
       "      <td>8</td>\n",
       "      <td>7648</td>\n",
       "    </tr>\n",
       "  </tbody>\n",
       "</table>\n",
       "<p>1550 rows × 9 columns</p>\n",
       "</div>"
      ],
      "text/plain": [
       "      Airline  Source  Destination  Dep_Time  Arrival_Time  Duration  \\\n",
       "0           1       4            3        25           142       149   \n",
       "1           1       4            3        41           214       150   \n",
       "2           1       4            3        84           298       166   \n",
       "3           1       4            3       109           355       169   \n",
       "4           1       4            3        25           142       149   \n",
       "...       ...     ...          ...       ...           ...       ...   \n",
       "1545        1       0            4        34           307         0   \n",
       "1546        1       0            4         0           398       105   \n",
       "1547        4       0            4        60           352       219   \n",
       "1548        3       0            4       111           352       158   \n",
       "1549        3       0            4        51           241       158   \n",
       "\n",
       "      Total_Stops  Additional_Info  Price (in ₹)  \n",
       "0               3                4          2476  \n",
       "1               3                4          2476  \n",
       "2               0                4          2791  \n",
       "3               0                4          2791  \n",
       "4               3                4          2476  \n",
       "...           ...              ...           ...  \n",
       "1545            0                8          4943  \n",
       "1546            0                8         10394  \n",
       "1547            0                0         27992  \n",
       "1548            4                8          7648  \n",
       "1549            4                8          7648  \n",
       "\n",
       "[1550 rows x 9 columns]"
      ]
     },
     "execution_count": 25,
     "metadata": {},
     "output_type": "execute_result"
    }
   ],
   "source": [
    "df.drop(['Price (in ₹)'],axis=1).astype('category')\n",
    "le=LabelEncoder()\n",
    "cnt=0\n",
    "for col in df:\n",
    "    if df[col].dtype=='object':\n",
    "        le.fit(df[col])\n",
    "        df[col] = le.transform(df[col])\n",
    "        cnt += 1\n",
    "df        "
   ]
  },
  {
   "cell_type": "markdown",
   "id": "2bb07bef",
   "metadata": {},
   "source": [
    "We have encoded the feature variables using label encoder technique."
   ]
  },
  {
   "cell_type": "markdown",
   "id": "5ccf9f90",
   "metadata": {},
   "source": [
    "# Multivariate Analysis"
   ]
  },
  {
   "cell_type": "code",
   "execution_count": 26,
   "id": "400aad77",
   "metadata": {},
   "outputs": [
    {
     "data": {
      "text/plain": [
       "<AxesSubplot:>"
      ]
     },
     "execution_count": 26,
     "metadata": {},
     "output_type": "execute_result"
    },
    {
     "data": {
      "image/png": "[encoded data removed]",
      "text/plain": [
       "<Figure size 1080x576 with 2 Axes>"
      ]
     },
     "metadata": {
      "needs_background": "light"
     },
     "output_type": "display_data"
    }
   ],
   "source": [
    "a=df.corr()\n",
    "plt.figure(figsize=(15,8))\n",
    "sn.heatmap(a,linewidth=0.1, cmap=\"YlGnBu\", annot = True)"
   ]
  },
  {
   "cell_type": "markdown",
   "id": "f016a77f",
   "metadata": {},
   "source": [
    "There does not exist any multicollinearity in the dataset."
   ]
  },
  {
   "cell_type": "markdown",
   "id": "60fd67ae",
   "metadata": {},
   "source": [
    "# Model Building"
   ]
  },
  {
   "cell_type": "code",
   "execution_count": 27,
   "id": "468f3481",
   "metadata": {},
   "outputs": [],
   "source": [
    "x = df.drop(['Price (in ₹)'],axis=1)\n",
    "y = df['Price (in ₹)']"
   ]
  },
  {
   "cell_type": "markdown",
   "id": "03b5507f",
   "metadata": {},
   "source": [
    "Separating feature and target variables into x and y."
   ]
  },
  {
   "cell_type": "code",
   "execution_count": 28,
   "id": "8f67421f",
   "metadata": {},
   "outputs": [],
   "source": [
    "scale = StandardScaler()\n",
    "x=scale.fit_transform(x)"
   ]
  },
  {
   "cell_type": "markdown",
   "id": "908a19a8",
   "metadata": {},
   "source": [
    "Scaling the feature variables of the dataset."
   ]
  },
  {
   "cell_type": "markdown",
   "id": "da5b9260",
   "metadata": {},
   "source": [
    "# 1. Ridge"
   ]
  },
  {
   "cell_type": "code",
   "execution_count": 29,
   "id": "7dddacba",
   "metadata": {},
   "outputs": [
    {
     "name": "stdout",
     "output_type": "stream",
     "text": [
      "Ridge Regression Score: 0.42102269986725194\n",
      "Ridge Regression r2_score: 0.4427111921124248\n",
      "Mean squared error of Ridge Regression: 19719147.34985683\n",
      "Root Mean Square error of Ridge Regression: 4440.624657619334\n"
     ]
    }
   ],
   "source": [
    "xtrain, xtest, ytrain, ytest = train_test_split(x, y, test_size = 0.3, random_state = 45 )\n",
    "ridge = Ridge(alpha = 0.5)\n",
    "ridge.fit(xtrain, ytrain)\n",
    "pred_test_r= ridge.predict(xtest)\n",
    "print('Ridge Regression Score:',ridge.score(xtrain,ytrain))\n",
    "print('Ridge Regression r2_score:',r2_score(ytest,pred_test_r))\n",
    "print(\"Mean squared error of Ridge Regression:\",mean_squared_error(ytest,pred_test_r))\n",
    "print(\"Root Mean Square error of Ridge Regression:\",np.sqrt(mean_squared_error(ytest,pred_test_r)))"
   ]
  },
  {
   "cell_type": "markdown",
   "id": "af7dc97f",
   "metadata": {},
   "source": [
    "# 2. Elastic Net"
   ]
  },
  {
   "cell_type": "code",
   "execution_count": 30,
   "id": "e420a6ff",
   "metadata": {},
   "outputs": [
    {
     "name": "stdout",
     "output_type": "stream",
     "text": [
      "ElasticNet Regression Score: 0.42102268383685204\n",
      "ElasticNet Regression r2_score: 0.4427119644724037\n",
      "Mean squared error of ElasticNet Regression: 19719120.020615667\n",
      "Root Mean Square error of ElasticNet Regression: 4440.621580433945\n"
     ]
    }
   ],
   "source": [
    "en = ElasticNet(alpha = 0.001)\n",
    "en.fit(xtrain, ytrain)\n",
    "pred_test_en= en.predict(xtest)\n",
    "print('ElasticNet Regression Score:',en.score(xtrain,ytrain))\n",
    "print('ElasticNet Regression r2_score:',r2_score(ytest,pred_test_en))\n",
    "print(\"Mean squared error of ElasticNet Regression:\",mean_squared_error(ytest,pred_test_en))\n",
    "print(\"Root Mean Square error of ElasticNet Regression:\",np.sqrt(mean_squared_error(ytest,pred_test_en)))"
   ]
  },
  {
   "cell_type": "markdown",
   "id": "4df8076e",
   "metadata": {},
   "source": [
    "# 3. Decision Tree Regressor"
   ]
  },
  {
   "cell_type": "code",
   "execution_count": 31,
   "id": "2ab87a6e",
   "metadata": {},
   "outputs": [
    {
     "name": "stdout",
     "output_type": "stream",
     "text": [
      "Decision Tree Regressor Score: 0.9697230199412826\n",
      "Decision Tree Regressor r2_score: 0.7646436014054596\n",
      "Mean squared error of Decision Tree Regressor: 8327867.773281459\n",
      "Root Mean Square error of Decision Tree Regressor: 2885.8045279057724\n"
     ]
    }
   ],
   "source": [
    "dtr=DecisionTreeRegressor(criterion='mse')\n",
    "dtr.fit(xtrain,ytrain)\n",
    "pred_train_dtr=dtr.predict(xtrain)\n",
    "pred_test_dtr=dtr.predict(xtest)\n",
    "print('Decision Tree Regressor Score:',dtr.score(xtrain,ytrain))\n",
    "print('Decision Tree Regressor r2_score:',r2_score(ytest,pred_test_dtr))\n",
    "print(\"Mean squared error of Decision Tree Regressor:\",mean_squared_error(ytest,pred_test_dtr))\n",
    "print(\"Root Mean Square error of Decision Tree Regressor:\",np.sqrt(mean_squared_error(ytest,pred_test_dtr)))"
   ]
  },
  {
   "cell_type": "markdown",
   "id": "4c38d2d5",
   "metadata": {},
   "source": [
    "# 4. K-Neighbors Regressor"
   ]
  },
  {
   "cell_type": "code",
   "execution_count": 32,
   "id": "f3990884",
   "metadata": {},
   "outputs": [
    {
     "name": "stdout",
     "output_type": "stream",
     "text": [
      "K Neighbors Regressor Score: 0.7602407737247007\n",
      "K Neighbors Regressor r2_score: 0.6029044870395156\n",
      "Mean squared error of K Neighbors Regressor: 14050856.2547957\n",
      "Root Mean Square error of K Neighbors Regressor: 3748.4471791390765\n"
     ]
    }
   ],
   "source": [
    "knr = KNeighborsRegressor()\n",
    "knr.fit(xtrain,ytrain)\n",
    "pred_train_knr=knr.predict(xtrain)\n",
    "pred_test_knr=knr.predict(xtest)\n",
    "print('K Neighbors Regressor Score:',knr.score(xtrain,ytrain))\n",
    "print('K Neighbors Regressor r2_score:',r2_score(ytest,pred_test_knr))\n",
    "print(\"Mean squared error of K Neighbors Regressor:\",mean_squared_error(ytest,pred_test_knr))\n",
    "print(\"Root Mean Square error of K Neighbors Regressor:\",np.sqrt(mean_squared_error(ytest,pred_test_knr)))"
   ]
  },
  {
   "cell_type": "markdown",
   "id": "57706c69",
   "metadata": {},
   "source": [
    "# 5. SGD Regressor"
   ]
  },
  {
   "cell_type": "code",
   "execution_count": 33,
   "id": "572d7ef9",
   "metadata": {},
   "outputs": [
    {
     "name": "stdout",
     "output_type": "stream",
     "text": [
      "SGD Regressor Score: 0.42073845795608456\n",
      "SGD Regressor r2_score: 0.44608794440570754\n",
      "Mean squared error of SGD Regressor: 19599664.103301767\n",
      "Root Mean Square error of SGD Regressor: 4427.150788408022\n"
     ]
    }
   ],
   "source": [
    "sgd=SGDRegressor()\n",
    "sgd.fit(xtrain,ytrain)\n",
    "pred_train_sgd=sgd.predict(xtrain)\n",
    "pred_test_sgd=sgd.predict(xtest)\n",
    "print('SGD Regressor Score:',sgd.score(xtrain,ytrain))\n",
    "print('SGD Regressor r2_score:',r2_score(ytest,pred_test_sgd))\n",
    "print(\"Mean squared error of SGD Regressor:\",mean_squared_error(ytest,pred_test_sgd))\n",
    "print(\"Root Mean Square error of SGD Regressor:\",np.sqrt(mean_squared_error(ytest,pred_test_sgd)))"
   ]
  },
  {
   "cell_type": "markdown",
   "id": "55bdda61",
   "metadata": {},
   "source": [
    "# 6. Random Forest Regressor"
   ]
  },
  {
   "cell_type": "code",
   "execution_count": 34,
   "id": "f49b8632",
   "metadata": {},
   "outputs": [
    {
     "name": "stdout",
     "output_type": "stream",
     "text": [
      "Random Forest Regressor Score: 0.942895397322718\n",
      "Random Forest Regressor r2_score: 0.8195508129194671\n",
      "Mean squared error of Random Forest Regressor: 6385027.0431426745\n",
      "Root Mean Square error of Random Forest Regressor: 2526.861104837912\n"
     ]
    }
   ],
   "source": [
    "rf=RandomForestRegressor()\n",
    "rf.fit(xtrain,ytrain)\n",
    "pred_train_rf=rf.predict(xtrain)\n",
    "pred_test_rf=rf.predict(xtest)\n",
    "print('Random Forest Regressor Score:',rf.score(xtrain,ytrain))\n",
    "print('Random Forest Regressor r2_score:',r2_score(ytest,pred_test_rf))\n",
    "print(\"Mean squared error of Random Forest Regressor:\",mean_squared_error(ytest,pred_test_rf))\n",
    "print(\"Root Mean Square error of Random Forest Regressor:\",np.sqrt(mean_squared_error(ytest,pred_test_rf)))"
   ]
  },
  {
   "cell_type": "markdown",
   "id": "d63fcd2a",
   "metadata": {},
   "source": [
    "r2_score and Score of Random Forest Regressor is very nice ."
   ]
  },
  {
   "cell_type": "markdown",
   "id": "014d2a20",
   "metadata": {},
   "source": [
    "# 7. Gradient Boosting Regressor"
   ]
  },
  {
   "cell_type": "code",
   "execution_count": 35,
   "id": "03c1f496",
   "metadata": {},
   "outputs": [
    {
     "name": "stdout",
     "output_type": "stream",
     "text": [
      "Gradient Boosting Regressor Score: 0.8682020013864885\n",
      "Gradient Boosting Regressor r2_score: 0.7595134586149259\n",
      "Mean squared error of Gradient Boosting Regressor: 8509393.115582515\n",
      "Root Mean Square error of Gradient Boosting Regressor: 2917.0864086589063\n"
     ]
    }
   ],
   "source": [
    "gb=GradientBoostingRegressor()\n",
    "gb.fit(xtrain,ytrain)\n",
    "pred_train_gb=gb.predict(xtrain)\n",
    "pred_test_gb=gb.predict(xtest)\n",
    "print('Gradient Boosting Regressor Score:',gb.score(xtrain,ytrain))\n",
    "print('Gradient Boosting Regressor r2_score:',r2_score(ytest,pred_test_gb))\n",
    "print(\"Mean squared error of Gradient Boosting Regressor:\",mean_squared_error(ytest,pred_test_gb))\n",
    "print(\"Root Mean Square error of Gradient Boosting Regressor:\",np.sqrt(mean_squared_error(ytest,pred_test_gb)))"
   ]
  },
  {
   "cell_type": "markdown",
   "id": "50012df4",
   "metadata": {},
   "source": [
    "r2_score and Score of Gradient Boosting Regressor is very nice and similar to Random forest Regressor."
   ]
  },
  {
   "cell_type": "markdown",
   "id": "e405f733",
   "metadata": {},
   "source": [
    "# Cross Validation Score"
   ]
  },
  {
   "cell_type": "code",
   "execution_count": 36,
   "id": "84f399ce",
   "metadata": {},
   "outputs": [
    {
     "name": "stdout",
     "output_type": "stream",
     "text": [
      "Cross Validation Score of Ridge is 2.584360406486026\n",
      "Cross Validation Score of Elastic Net is 2.603333608353706\n",
      "Cross Validation Score of Decision Tree Regressor is 46.70954385493843\n",
      "Cross Validation Score of KNeighbors Regressor is 45.05763220205954\n",
      "Cross Validation Score of SGD Regressor is 3.610953416982723\n",
      "Cross Validation Score of Random Forest Regressor is 59.88384301459255\n",
      "Cross Validation Score of Gradient Boosting Regressor is 58.32161116293408\n"
     ]
    }
   ],
   "source": [
    "print('Cross Validation Score of Ridge is',(cvs(ridge,x,y,cv=5).mean())*100)\n",
    "print('Cross Validation Score of Elastic Net is',(cvs(en,x,y,cv=5).mean())*100)\n",
    "print('Cross Validation Score of Decision Tree Regressor is',(cvs(dtr,x,y,cv=5).mean())*100)\n",
    "print('Cross Validation Score of KNeighbors Regressor is',(cvs(knr,x,y,cv=5).mean())*100)\n",
    "print('Cross Validation Score of SGD Regressor is',(cvs(sgd,x,y,cv=5).mean())*100)\n",
    "print('Cross Validation Score of Random Forest Regressor is',(cvs(rf,x,y,cv=5).mean())*100)\n",
    "print('Cross Validation Score of Gradient Boosting Regressor is',(cvs(gb,x,y,cv=5).mean())*100)"
   ]
  },
  {
   "cell_type": "markdown",
   "id": "cd9e8941",
   "metadata": {},
   "source": [
    "The least difference between r2_score and cross validation score is for Random Forest Regressor, hence we will use that model."
   ]
  },
  {
   "cell_type": "markdown",
   "id": "0c873f33",
   "metadata": {},
   "source": [
    "# Hyper Parameter Tuning"
   ]
  },
  {
   "cell_type": "code",
   "execution_count": 37,
   "id": "1846ba07",
   "metadata": {},
   "outputs": [
    {
     "data": {
      "text/plain": [
       "{'bootstrap': False,\n",
       " 'max_features': 'sqrt',\n",
       " 'min_samples_leaf': 1,\n",
       " 'min_samples_split': 5}"
      ]
     },
     "execution_count": 37,
     "metadata": {},
     "output_type": "execute_result"
    }
   ],
   "source": [
    "parameter = { 'bootstrap': [True, False],\n",
    " 'max_features': ['auto', 'sqrt'],\n",
    " 'min_samples_leaf': [1, 2, 4],\n",
    " 'min_samples_split': [2, 5, 10],}\n",
    "\n",
    "gvc = GridSearchCV(RandomForestRegressor(),parameter,cv=5)\n",
    "gvc.fit(xtrain,ytrain)\n",
    "gvc.best_params_"
   ]
  },
  {
   "cell_type": "markdown",
   "id": "b46f696b",
   "metadata": {},
   "source": [
    "Getting all the best parameter to apply in our selected model."
   ]
  },
  {
   "cell_type": "code",
   "execution_count": 38,
   "id": "19f4371c",
   "metadata": {},
   "outputs": [
    {
     "name": "stdout",
     "output_type": "stream",
     "text": [
      "Score of Hyper Parameter Tuned Ranfom Forest Regressor is: 0.9416064089464501\n",
      "Accuracy for predicting price of flight is 85.35543395245519 %\n",
      "Mean squared error of Hyper Parameter Tuned Random Forest Regressor: 7658728.852515328\n",
      "Root Mean Square error of Hyper Parameter Tuned Random Forest Regressor: 2767.440848964134\n"
     ]
    }
   ],
   "source": [
    "priceflight = RandomForestRegressor(bootstrap=False,min_samples_leaf=1,max_features='sqrt',min_samples_split=5)\n",
    "priceflight.fit(xtrain,ytrain)\n",
    "pred=priceflight.predict(xtest)\n",
    "acc=r2_score(ytest,pred)\n",
    "print('Score of Hyper Parameter Tuned Ranfom Forest Regressor is:',priceflight.score(xtrain,ytrain))\n",
    "print('Accuracy for predicting price of flight is', (acc*100),'%')\n",
    "print(\"Mean squared error of Hyper Parameter Tuned Random Forest Regressor:\",mean_squared_error(ytest,pred))\n",
    "print(\"Root Mean Square error of Hyper Parameter Tuned Random Forest Regressor:\",np.sqrt(mean_squared_error(ytest,pred)))"
   ]
  },
  {
   "cell_type": "markdown",
   "id": "328ca89d",
   "metadata": {},
   "source": [
    "The score and r2_score of this model is quite acceptable."
   ]
  },
  {
   "cell_type": "markdown",
   "id": "66a30498",
   "metadata": {},
   "source": [
    "# Conclusion"
   ]
  },
  {
   "cell_type": "code",
   "execution_count": 39,
   "id": "30a6fea6",
   "metadata": {},
   "outputs": [
    {
     "data": {
      "text/html": [
       "<div>\n",
       "<style scoped>\n",
       "    .dataframe tbody tr th:only-of-type {\n",
       "        vertical-align: middle;\n",
       "    }\n",
       "\n",
       "    .dataframe tbody tr th {\n",
       "        vertical-align: top;\n",
       "    }\n",
       "\n",
       "    .dataframe thead th {\n",
       "        text-align: right;\n",
       "    }\n",
       "</style>\n",
       "<table border=\"1\" class=\"dataframe\">\n",
       "  <thead>\n",
       "    <tr style=\"text-align: right;\">\n",
       "      <th></th>\n",
       "      <th>Original</th>\n",
       "      <th>Predicted</th>\n",
       "    </tr>\n",
       "  </thead>\n",
       "  <tbody>\n",
       "    <tr>\n",
       "      <th>0</th>\n",
       "      <td>3597</td>\n",
       "      <td>3597.000000</td>\n",
       "    </tr>\n",
       "    <tr>\n",
       "      <th>1</th>\n",
       "      <td>2754</td>\n",
       "      <td>2870.830000</td>\n",
       "    </tr>\n",
       "    <tr>\n",
       "      <th>2</th>\n",
       "      <td>6528</td>\n",
       "      <td>9463.859167</td>\n",
       "    </tr>\n",
       "    <tr>\n",
       "      <th>3</th>\n",
       "      <td>13364</td>\n",
       "      <td>13532.130000</td>\n",
       "    </tr>\n",
       "    <tr>\n",
       "      <th>4</th>\n",
       "      <td>8040</td>\n",
       "      <td>10172.290000</td>\n",
       "    </tr>\n",
       "    <tr>\n",
       "      <th>...</th>\n",
       "      <td>...</td>\n",
       "      <td>...</td>\n",
       "    </tr>\n",
       "    <tr>\n",
       "      <th>460</th>\n",
       "      <td>8352</td>\n",
       "      <td>10952.724167</td>\n",
       "    </tr>\n",
       "    <tr>\n",
       "      <th>461</th>\n",
       "      <td>3597</td>\n",
       "      <td>3597.000000</td>\n",
       "    </tr>\n",
       "    <tr>\n",
       "      <th>462</th>\n",
       "      <td>16736</td>\n",
       "      <td>14105.420000</td>\n",
       "    </tr>\n",
       "    <tr>\n",
       "      <th>463</th>\n",
       "      <td>3739</td>\n",
       "      <td>3994.933333</td>\n",
       "    </tr>\n",
       "    <tr>\n",
       "      <th>464</th>\n",
       "      <td>2017</td>\n",
       "      <td>2122.000000</td>\n",
       "    </tr>\n",
       "  </tbody>\n",
       "</table>\n",
       "<p>465 rows × 2 columns</p>\n",
       "</div>"
      ],
      "text/plain": [
       "     Original     Predicted\n",
       "0        3597   3597.000000\n",
       "1        2754   2870.830000\n",
       "2        6528   9463.859167\n",
       "3       13364  13532.130000\n",
       "4        8040  10172.290000\n",
       "..        ...           ...\n",
       "460      8352  10952.724167\n",
       "461      3597   3597.000000\n",
       "462     16736  14105.420000\n",
       "463      3739   3994.933333\n",
       "464      2017   2122.000000\n",
       "\n",
       "[465 rows x 2 columns]"
      ]
     },
     "execution_count": 39,
     "metadata": {},
     "output_type": "execute_result"
    }
   ],
   "source": [
    "a= np.array(ytest)\n",
    "predicted = np.array(priceflight.predict(xtest))\n",
    "fp=pd.DataFrame({\"Original\":a,\"Predicted\":predicted},index=range(len(a)))\n",
    "fp"
   ]
  },
  {
   "cell_type": "markdown",
   "id": "ca5a589f",
   "metadata": {},
   "source": [
    "The predicted price lies very close to the original price. Hence we accept this model."
   ]
  },
  {
   "cell_type": "markdown",
   "id": "5e81f2ea",
   "metadata": {},
   "source": [
    "# Model Saving"
   ]
  },
  {
   "cell_type": "code",
   "execution_count": 40,
   "id": "bab284da",
   "metadata": {},
   "outputs": [],
   "source": [
    "import pickle\n",
    "filename = 'PriceFlight.pkl'\n",
    "pickle.dump(priceflight,open(filename,'wb'))"
   ]
  },
  {
   "cell_type": "markdown",
   "id": "8f738f26",
   "metadata": {},
   "source": [
    "Hence saved the best model by the name PriceFlight.pkl"
   ]
  }
 ],
 "metadata": {
  "kernelspec": {
   "display_name": "Python 3",
   "language": "python",
   "name": "python3"
  },
  "language_info": {
   "codemirror_mode": {
    "name": "ipython",
    "version": 3
   },
   "file_extension": ".py",
   "mimetype": "text/x-python",
   "name": "python",
   "nbconvert_exporter": "python",
   "pygments_lexer": "ipython3",
   "version": "3.8.8"
  }
 },
 "nbformat": 4,
 "nbformat_minor": 5
}
